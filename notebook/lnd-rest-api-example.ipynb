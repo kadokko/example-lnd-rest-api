{
 "cells": [
  {
   "cell_type": "markdown",
   "metadata": {},
   "source": [
    "## LND REST API example"
   ]
  },
  {
   "cell_type": "markdown",
   "metadata": {},
   "source": [
    "### senario\n",
    "\n",
    "* multi-hop payment (Alice -> Bob -> Charlie)"
   ]
  },
  {
   "cell_type": "markdown",
   "metadata": {},
   "source": [
    "### setup"
   ]
  },
  {
   "cell_type": "code",
   "execution_count": null,
   "metadata": {},
   "outputs": [],
   "source": [
    "# load libraries\n",
    "import json\n",
    "from threading import Thread\n",
    "from base64 import b64decode\n",
    "from time import sleep\n",
    "from client import LndClient, BtcClient\n",
    "from util import p, dump, generate_blocks"
   ]
  },
  {
   "cell_type": "code",
   "execution_count": null,
   "metadata": {},
   "outputs": [],
   "source": [
    "# node\n",
    "alice   = LndClient(\"lnd1\", \"8081\")\n",
    "bob     = LndClient(\"lnd2\", \"8082\")\n",
    "charlie = LndClient(\"lnd3\", \"8083\")\n",
    "bitcoin = BtcClient()\n",
    "\n",
    "# initialize mainchain\n",
    "bitcoin.generate(101)\n",
    "p('block height = {}'.format(bitcoin.getblockcount()))"
   ]
  },
  {
   "cell_type": "markdown",
   "metadata": {},
   "source": [
    "### 1. fund Alice, Bob\n",
    "\n",
    "* Alice: 0.09 btc\n",
    "* Charlie: 0.08 btc"
   ]
  },
  {
   "cell_type": "code",
   "execution_count": null,
   "metadata": {},
   "outputs": [],
   "source": [
    "p('[wallet balance before funding]')\n",
    "p(\" alice = {}\".format(alice.get('/balance/blockchain')))\n",
    "p(\" bob   = {}\".format(  bob.get('/balance/blockchain')))\n",
    "\n",
    "addr_a = alice.get('/newaddress', {'type': 'np2wkh'})['address']\n",
    "addr_b =   bob.get('/newaddress', {'type': 'np2wkh'})['address']\n",
    "bitcoin.sendtoaddress(addr_a, 0.09)\n",
    "bitcoin.sendtoaddress(addr_b, 0.08)\n",
    "bitcoin.generate(6)\n",
    "\n",
    "p('[wallet balance after funding]')\n",
    "p(\" alice = {}\".format(alice.get('/balance/blockchain')))\n",
    "p(\" bob   = {}\".format(  bob.get('/balance/blockchain')))"
   ]
  },
  {
   "cell_type": "markdown",
   "metadata": {},
   "source": [
    "### 2. connect nodes\n",
    "\n",
    "* Alice -> Bob\n",
    "* Bob   -> Charlie"
   ]
  },
  {
   "cell_type": "code",
   "execution_count": null,
   "metadata": {},
   "outputs": [],
   "source": [
    "# Alice -> Bob\n",
    "pubkey_b = bob.get('/getinfo')['identity_pubkey']\n",
    "host_b = 'lnd2:9735'\n",
    "alice.post('/peers', { 'addr': { 'pubkey': pubkey_b, 'host': host_b }, 'perm': True })\n",
    "\n",
    "# Bob -> Charlie\n",
    "pubkey_c = charlie.get('/getinfo')['identity_pubkey']\n",
    "host_c = 'lnd3:9735'\n",
    "bob.post('/peers', { 'addr': { 'pubkey': pubkey_c, 'host': host_c }, 'perm': True })\n",
    "\n",
    "p('[identity pubkey]')\n",
    "p(\"  bob     = {}\".format(pubkey_b))\n",
    "p(\"  charlie = {}\".format(pubkey_c))\n",
    "\n",
    "p('[peer]')\n",
    "p('  alice   <-> ', end=''); dump(  alice.get('/peers'))\n",
    "p('  bob     <-> ', end=''); dump(    bob.get('/peers'))\n",
    "p('  charlie <-> ', end=''); dump(charlie.get('/peers'))"
   ]
  },
  {
   "cell_type": "markdown",
   "metadata": {},
   "source": [
    "### 3. open the channel"
   ]
  },
  {
   "cell_type": "code",
   "execution_count": null,
   "metadata": {
    "scrolled": true
   },
   "outputs": [],
   "source": [
    "# Alice to Bob\n",
    "point_a =  alice.post('/channels', { \n",
    "    \"node_pubkey_string\": pubkey_b, \"local_funding_amount\": \"7000000\", \"push_sat\": \"0\" \n",
    "})\n",
    "\n",
    "# Bob to Charlie\n",
    "point_b = bob.post('/channels', { \n",
    "    \"node_pubkey_string\": pubkey_c, \"local_funding_amount\": \"6000000\", \"push_sat\": \"0\"\n",
    "})\n",
    "\n",
    "# open the channel\n",
    "sleep(2)\n",
    "bitcoin.generate(6)\n",
    "\n",
    "# check the channel state\n",
    "p('[channels: alice]'); dump(alice.get('/channels'))\n",
    "p('[channels: bob]'  ); dump(  bob.get('/channels'))"
   ]
  },
  {
   "cell_type": "code",
   "execution_count": null,
   "metadata": {
    "scrolled": true
   },
   "outputs": [],
   "source": [
    "p('[channel: Alice <-> Bob]')\n",
    "funding_tx_id_a = b64decode(point_a['funding_txid_bytes'].encode())[::-1].hex()\n",
    "output_index_a = point_a['output_index']\n",
    "p('  funding tx txid   = {}'.format(funding_tx_id_a))\n",
    "p('  funding tx vout n = {}'.format(output_index_a))\n",
    "\n",
    "p('[channel: Bob <-> Charlie]')\n",
    "funding_tx_id_b  = b64decode(point_b['funding_txid_bytes'].encode())[::-1].hex()\n",
    "output_index_b = point_b['output_index']\n",
    "p('  funding tx txid   = {}'.format(funding_tx_id_b))\n",
    "p('  funding tx vout n = {}'.format(output_index_b))"
   ]
  },
  {
   "cell_type": "markdown",
   "metadata": {},
   "source": [
    "### 4. create invoice\n",
    "\n",
    "* Charlie charges Alice 40,000 satoshi"
   ]
  },
  {
   "cell_type": "code",
   "execution_count": null,
   "metadata": {},
   "outputs": [],
   "source": [
    "# add a invoice to the invoice database\n",
    "invoice = charlie.post('/invoices', { \"value\": \"40000\" })\n",
    "\n",
    "# check the invoice\n",
    "invoice_info = charlie.get('/invoice/' + b64decode(invoice['r_hash'].encode()).hex())\n",
    "p('[invoice]'); dump(invoice_info)\n",
    "\n",
    "# check the payment request\n",
    "payreq = charlie.get('/payreq/' + invoice['payment_request'])\n",
    "p('[payment request]'); dump(payreq)"
   ]
  },
  {
   "cell_type": "markdown",
   "metadata": {},
   "source": [
    "### 5. send the payment\n",
    "\n",
    "* Alice pays 40,000 satoshi to Charlie\n",
    "* If you have the error \"unable to find a path to destination\", please wait a little while and then try again."
   ]
  },
  {
   "cell_type": "code",
   "execution_count": null,
   "metadata": {
    "scrolled": true
   },
   "outputs": [],
   "source": [
    "# check the channel balance\n",
    "p('[channel balance before paying]')\n",
    "p('  alice   = {}'.format(  alice.get('/balance/channels')))\n",
    "p('  charlie = {}'.format(charlie.get('/balance/channels')))\n",
    "\n",
    "# send the payment\n",
    "payment = alice.post('/channels/transactions', { 'payment_request': invoice['payment_request'] })\n",
    "p('[payment]'); dump(payment)\n",
    "\n",
    "# check the payment\n",
    "# p('[payment]'); dump(alice.get('/payments'))\n",
    "\n",
    "# wait\n",
    "sleep(2)\n",
    "\n",
    "# check the channel balance\n",
    "p('[channel balance after paying]')\n",
    "p('  alice   = {}'.format(  alice.get('/balance/channels')))\n",
    "p('  charlie = {}'.format(charlie.get('/balance/channels')))"
   ]
  },
  {
   "cell_type": "markdown",
   "metadata": {},
   "source": [
    "### 6. close the channel"
   ]
  },
  {
   "cell_type": "code",
   "execution_count": null,
   "metadata": {
    "scrolled": false
   },
   "outputs": [],
   "source": [
    "# check the balance\n",
    "p('[channel balance]')\n",
    "p(' alice   = {}'.format(  alice.get('/balance/channels')))\n",
    "p(' bob     = {}'.format(    bob.get('/balance/channels')))\n",
    "p(' charlie = {}'.format(charlie.get('/balance/channels')))\n",
    "\n",
    "p('[wallet balance]')\n",
    "p(' alice   = ', end=''); dump(  alice.get('/balance/blockchain')['confirmed_balance'])\n",
    "p(' bob     = ', end=''); dump(    bob.get('/balance/blockchain')['confirmed_balance'])\n",
    "p(' charlie = ', end=''); dump(charlie.get('/balance/blockchain')['confirmed_balance'])\n",
    "\n",
    "\n",
    "p('[channel: Alice <-> Bob]')\n",
    "\n",
    "# mine mainchain 1 block after 3 sec\n",
    "Thread(target=generate_blocks, args=(bitcoin, 1, 3)).start()\n",
    "\n",
    "# check the channel state before closing\n",
    "p(' number of channels : {}'.format(len(alice.get('/channels')['channels'])))\n",
    "\n",
    "# close the channel\n",
    "res = alice.delete('/channels/' + funding_tx_id_a + '/' + str(output_index_a)).text.split(\"\\n\")[1]\n",
    "closing_txid_a = json.loads(res)['result']['chan_close']['closing_txid']\n",
    "p(' closing_txid = {}'.format(closing_txid_a))\n",
    "sleep(5)\n",
    "\n",
    "# check the channel state after closing\n",
    "p(' number of channels : {}'.format(len(alice.get('/channels')['channels'])))\n",
    "\n",
    "\n",
    "p('[channel: Bob <-> Charlie]')\n",
    "\n",
    "# mine mainchain 1 block after 3 sec\n",
    "Thread(target=generate_blocks, args=(bitcoin, 1, 3)).start()\n",
    "\n",
    "# close the channel\n",
    "res = bob.delete('/channels/' + funding_tx_id_b + '/' + str(output_index_b)).text.split(\"\\n\")[1]\n",
    "closing_txid_b = json.loads(res)['result']['chan_close']['closing_txid']\n",
    "p(' closing_txid = {}'.format(closing_txid_b))\n",
    "sleep(5)\n",
    "\n",
    "# check the balance\n",
    "p('[channel balance]')\n",
    "p(' alice   = {}'.format(  alice.get('/balance/channels')))\n",
    "p(' bob     = {}'.format(    bob.get('/balance/channels')))\n",
    "p(' charlie = {}'.format(charlie.get('/balance/channels')))\n",
    "\n",
    "p('[wallet balance]')\n",
    "p(' alice   = ', end=''); dump(  alice.get('/balance/blockchain')['confirmed_balance'])\n",
    "p(' bob     = ', end=''); dump(    bob.get('/balance/blockchain')['confirmed_balance'])\n",
    "p(' charlie = ', end=''); dump(charlie.get('/balance/blockchain')['confirmed_balance'])"
   ]
  }
 ],
 "metadata": {
  "kernelspec": {
   "display_name": "Python 3",
   "language": "python",
   "name": "python3"
  },
  "language_info": {
   "codemirror_mode": {
    "name": "ipython",
    "version": 3
   },
   "file_extension": ".py",
   "mimetype": "text/x-python",
   "name": "python",
   "nbconvert_exporter": "python",
   "pygments_lexer": "ipython3",
   "version": "3.6.9"
  }
 },
 "nbformat": 4,
 "nbformat_minor": 2
}
